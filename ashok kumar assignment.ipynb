{
 "cells": [
  {
   "cell_type": "code",
   "execution_count": 1,
   "id": "2c9b6db1",
   "metadata": {},
   "outputs": [
    {
     "name": "stdout",
     "output_type": "stream",
     "text": [
      "Enter the string:abcde\n",
      "AbCdE\n"
     ]
    }
   ],
   "source": [
    "s=input(\"Enter the string:\")\n",
    "x=0\n",
    "y=\"\"\n",
    "while x<len(s):\n",
    "    if x%2==0:\n",
    "        y=y+(s[x].upper())\n",
    "    else:\n",
    "        y=y+(s[x].lower())\n",
    "    x=x+1\n",
    "print(y)    "
   ]
  },
  {
   "cell_type": "code",
   "execution_count": 2,
   "id": "05604bc5",
   "metadata": {
    "scrolled": true
   },
   "outputs": [
    {
     "name": "stdout",
     "output_type": "stream",
     "text": [
      "<class 'str'>\n",
      "<class 'float'>\n",
      "<class 'int'>\n",
      "<class 'str'>\n",
      "<class 'complex'>\n"
     ]
    }
   ],
   "source": [
    "a=[\"a\",1.2,322,\"abcd\",1+2j]\n",
    "t=0\n",
    "while t<len(a):\n",
    "    print(type(a[t]))\n",
    "    t=t+1"
   ]
  },
  {
   "cell_type": "code",
   "execution_count": 8,
   "id": "154ec0df",
   "metadata": {},
   "outputs": [
    {
     "name": "stdout",
     "output_type": "stream",
     "text": [
      "['a', 'b', 'c', 'd', 'e', 'f', 'j']\n",
      "['2', '3', '4']\n"
     ]
    }
   ],
   "source": [
    "a=\"abcdef234j\"\n",
    "d=list(a)\n",
    "t=0\n",
    "r=[]\n",
    "y=[]\n",
    "while t<len(d):\n",
    "    if d[t].isalpha():\n",
    "        r.append(d[t])\n",
    "    else:\n",
    "        y.append(d[t])\n",
    "    t=t+1\n",
    "print(r)\n",
    "print(y)"
   ]
  },
  {
   "cell_type": "code",
   "execution_count": 11,
   "id": "de3d2865",
   "metadata": {},
   "outputs": [
    {
     "name": "stdout",
     "output_type": "stream",
     "text": [
      "abcd\n",
      "12\n"
     ]
    }
   ],
   "source": [
    "x=[\"a\",\"b\",\"1\",\"2\",\"c\",\"d\",\"3\",\"6\"]\n",
    "i=0\n",
    "z=\"\"\n",
    "b=0\n",
    "while i<len(x):\n",
    "    if x[i].isalpha():\n",
    "        z=z+x[i]\n",
    "    else:\n",
    "        b=b+int(x[i])\n",
    "    i=i+1\n",
    "print(z)\n",
    "print(b)"
   ]
  },
  {
   "cell_type": "code",
   "execution_count": 3,
   "id": "48403db3",
   "metadata": {},
   "outputs": [
    {
     "name": "stdout",
     "output_type": "stream",
     "text": [
      "['6', 'b', 'c', '7', '8', 'e']\n"
     ]
    }
   ],
   "source": [
    "x=[\"a\",\"6\",\"b\",\"c\"]\n",
    "y=[\"a\",\"7\",\"8\",\"e\"]\n",
    "i=0\n",
    "k=[]\n",
    "g=0\n",
    "while i<len(x):\n",
    "    j=0\n",
    "    g=0\n",
    "    while j<len(y):\n",
    "        if x[i]!=y[j]:\n",
    "            g=g+1\n",
    "        if g==len(y):    \n",
    "            k.append(x[i])\n",
    "        j=j+1\n",
    "    i=i+1\n",
    "i=0\n",
    "while i<len(y):\n",
    "    j=0\n",
    "    g=0\n",
    "    while j<len(x):\n",
    "        if y[i]!=x[j]:\n",
    "            g=g+1\n",
    "        if g==len(x):\n",
    "            k.append(y[i])\n",
    "        j=j+1\n",
    "    i=i+1\n",
    "print(k)"
   ]
  },
  {
   "cell_type": "code",
   "execution_count": null,
   "id": "b20c7073",
   "metadata": {},
   "outputs": [],
   "source": []
  },
  {
   "cell_type": "code",
   "execution_count": null,
   "id": "a9838e28",
   "metadata": {},
   "outputs": [],
   "source": []
  },
  {
   "cell_type": "code",
   "execution_count": null,
   "id": "af7912dd",
   "metadata": {},
   "outputs": [],
   "source": []
  }
 ],
 "metadata": {
  "kernelspec": {
   "display_name": "Python 3 (ipykernel)",
   "language": "python",
   "name": "python3"
  },
  "language_info": {
   "codemirror_mode": {
    "name": "ipython",
    "version": 3
   },
   "file_extension": ".py",
   "mimetype": "text/x-python",
   "name": "python",
   "nbconvert_exporter": "python",
   "pygments_lexer": "ipython3",
   "version": "3.9.12"
  }
 },
 "nbformat": 4,
 "nbformat_minor": 5
}
